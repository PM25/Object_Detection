{
 "cells": [
  {
   "cell_type": "markdown",
   "metadata": {},
   "source": [
    "### Set Data Path"
   ]
  },
  {
   "cell_type": "code",
   "execution_count": 5,
   "metadata": {},
   "outputs": [],
   "source": [
    "from pathlib import Path\n",
    "\n",
    "base_dir = Path(\"data\")\n",
    "train_dir = base_dir/Path(\"train\")\n",
    "validation_dir = base_dir/Path(\"validation\")\n",
    "test_dir = base_dir/Path(\"test\")"
   ]
  },
  {
   "cell_type": "markdown",
   "metadata": {},
   "source": [
    "### Image Transform Function"
   ]
  },
  {
   "cell_type": "code",
   "execution_count": 6,
   "metadata": {},
   "outputs": [
    {
     "ename": "ModuleNotFoundError",
     "evalue": "No module named 'torchvision'",
     "output_type": "error",
     "traceback": [
      "\u001b[1;31m---------------------------------------------------------------------------\u001b[0m",
      "\u001b[1;31mModuleNotFoundError\u001b[0m                       Traceback (most recent call last)",
      "\u001b[1;32m<ipython-input-6-9f691f1fb9f7>\u001b[0m in \u001b[0;36m<module>\u001b[1;34m\u001b[0m\n\u001b[1;32m----> 1\u001b[1;33m \u001b[1;32mfrom\u001b[0m \u001b[0mtorchvision\u001b[0m \u001b[1;32mimport\u001b[0m \u001b[0mtransforms\u001b[0m\u001b[1;33m\u001b[0m\u001b[1;33m\u001b[0m\u001b[0m\n\u001b[0m\u001b[0;32m      2\u001b[0m \u001b[1;33m\u001b[0m\u001b[0m\n\u001b[0;32m      3\u001b[0m transform = transforms.Compose([ \n\u001b[0;32m      4\u001b[0m     \u001b[0mtransforms\u001b[0m\u001b[1;33m.\u001b[0m\u001b[0mResize\u001b[0m\u001b[1;33m(\u001b[0m\u001b[1;33m(\u001b[0m\u001b[1;36m224\u001b[0m\u001b[1;33m,\u001b[0m \u001b[1;36m224\u001b[0m\u001b[1;33m)\u001b[0m\u001b[1;33m)\u001b[0m\u001b[1;33m,\u001b[0m\u001b[1;33m\u001b[0m\u001b[1;33m\u001b[0m\u001b[0m\n\u001b[0;32m      5\u001b[0m     \u001b[0mtransforms\u001b[0m\u001b[1;33m.\u001b[0m\u001b[0mToTensor\u001b[0m\u001b[1;33m(\u001b[0m\u001b[1;33m)\u001b[0m\u001b[1;33m,\u001b[0m\u001b[1;33m\u001b[0m\u001b[1;33m\u001b[0m\u001b[0m\n",
      "\u001b[1;31mModuleNotFoundError\u001b[0m: No module named 'torchvision'"
     ]
    }
   ],
   "source": [
    "from torchvision import transforms\n",
    "\n",
    "transform = transforms.Compose([ \n",
    "    transforms.Resize((224, 224)),\n",
    "    transforms.ToTensor(),\n",
    "    transforms.Normalize(mean=(.5, .5, .5), std=(.5, .5, .5))\n",
    "])"
   ]
  },
  {
   "cell_type": "markdown",
   "metadata": {},
   "source": [
    "### Load Training Data (x: features, y: labels)"
   ]
  },
  {
   "cell_type": "code",
   "execution_count": 10,
   "metadata": {},
   "outputs": [],
   "source": [
    "from PIL import Image\n",
    "\n",
    "x, y = [], []\n",
    "for file_name in train_dir.glob(\"*.jpg\"):\n",
    "    bounding_box_file = file_name.with_suffix('.txt')\n",
    "    \n",
    "    with open(bounding_box_file) as file:\n",
    "        lines = file.readlines()\n",
    "        if(len(lines) > 1):\n",
    "            continue\n",
    "        else:\n",
    "            line = lines[0].strip('\\n')\n",
    "            (classes, cen_x, cen_y, box_w, box_h) = list(map(float, line.split(' ')))\n",
    "            torch_data = torch.FloatTensor([cen_x, cen_y, box_w, box_h])\n",
    "            y.append(torch_data)\n",
    "            \n",
    "    img = Image.open(str(file_name)).convert('RGB')\n",
    "    img = transform(img)\n",
    "    x.append(img)"
   ]
  },
  {
   "cell_type": "markdown",
   "metadata": {},
   "source": [
    "### Put Training Data into Torch Loader"
   ]
  },
  {
   "cell_type": "code",
   "execution_count": 12,
   "metadata": {},
   "outputs": [],
   "source": [
    "import torch.utils.data as Data\n",
    "\n",
    "tensor_x = torch.stack(x)\n",
    "tensor_y = torch.stack(y)\n",
    "torch_dataset = Data.TensorDataset(tensor_x, tensor_y)\n",
    "loader = Data.DataLoader(dataset=torch_dataset, batch_size=32, shuffle=True, num_workers=2)"
   ]
  },
  {
   "cell_type": "markdown",
   "metadata": {},
   "source": [
    "### Load Pretrained RestNet18 Model"
   ]
  },
  {
   "cell_type": "code",
   "execution_count": 4,
   "metadata": {},
   "outputs": [],
   "source": [
    "import torchvision\n",
    "\n",
    "model = torchvision.models.resnet18(pretrained=True)\n",
    "fc_in_size = model.fc.in_features\n",
    "model.fc = nn.Linear(fc_in_size, 4)\n",
    "model = model.cuda()"
   ]
  },
  {
   "cell_type": "markdown",
   "metadata": {},
   "source": [
    "### Parameters"
   ]
  },
  {
   "cell_type": "code",
   "execution_count": 13,
   "metadata": {},
   "outputs": [],
   "source": [
    "EPOCH = 10\n",
    "LR = 1e-3"
   ]
  },
  {
   "cell_type": "markdown",
   "metadata": {},
   "source": [
    "### Loss Function & Optimizer"
   ]
  },
  {
   "cell_type": "code",
   "execution_count": 14,
   "metadata": {},
   "outputs": [],
   "source": [
    "loss_func = nn.SmoothL1Loss().cuda()\n",
    "opt = torch.optim.Adam(model.parameters(), lr=LR)"
   ]
  },
  {
   "cell_type": "markdown",
   "metadata": {},
   "source": [
    "### Training"
   ]
  },
  {
   "cell_type": "code",
   "execution_count": 17,
   "metadata": {},
   "outputs": [
    {
     "name": "stdout",
     "output_type": "stream",
     "text": [
      "Epoch 0 | Step 0 | Loss 0.15668310225009918\n",
      "Epoch 0 | Step 5 | Loss 0.11711937189102173\n",
      "Epoch 0 | Step 10 | Loss 0.05173167586326599\n",
      "Epoch 1 | Step 0 | Loss 0.01010880246758461\n",
      "Epoch 1 | Step 5 | Loss 0.00739856343716383\n",
      "Epoch 1 | Step 10 | Loss 0.008690240792930126\n",
      "Epoch 2 | Step 0 | Loss 0.008737225085496902\n",
      "Epoch 2 | Step 5 | Loss 0.00662753451615572\n",
      "Epoch 2 | Step 10 | Loss 0.009796814993023872\n",
      "Epoch 3 | Step 0 | Loss 0.005545835010707378\n",
      "Epoch 3 | Step 5 | Loss 0.007509482093155384\n",
      "Epoch 3 | Step 10 | Loss 0.004612468648701906\n",
      "Epoch 4 | Step 0 | Loss 0.0042313477024436\n",
      "Epoch 4 | Step 5 | Loss 0.006238226778805256\n",
      "Epoch 4 | Step 10 | Loss 0.005332221742719412\n",
      "Epoch 5 | Step 0 | Loss 0.005516073666512966\n",
      "Epoch 5 | Step 5 | Loss 0.009235391393303871\n",
      "Epoch 5 | Step 10 | Loss 0.004736854694783688\n",
      "Epoch 6 | Step 0 | Loss 0.007654199842363596\n",
      "Epoch 6 | Step 5 | Loss 0.003848954336717725\n",
      "Epoch 6 | Step 10 | Loss 0.00264316750690341\n",
      "Epoch 7 | Step 0 | Loss 0.0036661745980381966\n",
      "Epoch 7 | Step 5 | Loss 0.0038942908868193626\n",
      "Epoch 7 | Step 10 | Loss 0.002885211259126663\n",
      "Epoch 8 | Step 0 | Loss 0.0027116488199681044\n",
      "Epoch 8 | Step 5 | Loss 0.0033334530889987946\n",
      "Epoch 8 | Step 10 | Loss 0.0031032650731503963\n",
      "Epoch 9 | Step 0 | Loss 0.003803145606070757\n",
      "Epoch 9 | Step 5 | Loss 0.002669685985893011\n",
      "Epoch 9 | Step 10 | Loss 0.0021221311762928963\n",
      "Epoch 10 | Step 0 | Loss 0.0022910377010703087\n",
      "Epoch 10 | Step 5 | Loss 0.0033172531984746456\n",
      "Epoch 10 | Step 10 | Loss 0.002389545552432537\n",
      "Epoch 11 | Step 0 | Loss 0.004336577374488115\n",
      "Epoch 11 | Step 5 | Loss 0.002487024525180459\n",
      "Epoch 11 | Step 10 | Loss 0.0019729395862668753\n",
      "Epoch 12 | Step 0 | Loss 0.0018649687990546227\n",
      "Epoch 12 | Step 5 | Loss 0.0036775716580450535\n",
      "Epoch 12 | Step 10 | Loss 0.0031699601095169783\n",
      "Epoch 13 | Step 0 | Loss 0.001772380550391972\n",
      "Epoch 13 | Step 5 | Loss 0.0013399096205830574\n",
      "Epoch 13 | Step 10 | Loss 0.0018547099316492677\n",
      "Epoch 14 | Step 0 | Loss 0.0014305457007139921\n",
      "Epoch 14 | Step 5 | Loss 0.003778900485485792\n",
      "Epoch 14 | Step 10 | Loss 0.0029371886048465967\n",
      "Epoch 15 | Step 0 | Loss 0.0016350282821804285\n",
      "Epoch 15 | Step 5 | Loss 0.001005152240395546\n",
      "Epoch 15 | Step 10 | Loss 0.0025076759047806263\n",
      "Epoch 16 | Step 0 | Loss 0.0014750894624739885\n",
      "Epoch 16 | Step 5 | Loss 0.0012900213478133082\n",
      "Epoch 16 | Step 10 | Loss 0.0049331290647387505\n",
      "Epoch 17 | Step 0 | Loss 0.0020519341342151165\n",
      "Epoch 17 | Step 5 | Loss 0.0014009199803695083\n",
      "Epoch 17 | Step 10 | Loss 0.0017871694872155786\n",
      "Epoch 18 | Step 0 | Loss 0.0009737248183228076\n",
      "Epoch 18 | Step 5 | Loss 0.002753774868324399\n",
      "Epoch 18 | Step 10 | Loss 0.0012669134885072708\n",
      "Epoch 19 | Step 0 | Loss 0.0008434089832007885\n",
      "Epoch 19 | Step 5 | Loss 0.0012379526160657406\n",
      "Epoch 19 | Step 10 | Loss 0.003474883735179901\n",
      "Epoch 20 | Step 0 | Loss 0.0015711889136582613\n",
      "Epoch 20 | Step 5 | Loss 0.0005882000550627708\n",
      "Epoch 20 | Step 10 | Loss 0.0015265676192939281\n",
      "Epoch 21 | Step 0 | Loss 0.002764933742582798\n",
      "Epoch 21 | Step 5 | Loss 0.004715592134743929\n",
      "Epoch 21 | Step 10 | Loss 0.0029701171442866325\n",
      "Epoch 22 | Step 0 | Loss 0.0007025405066087842\n",
      "Epoch 22 | Step 5 | Loss 0.0023213110398501158\n",
      "Epoch 22 | Step 10 | Loss 0.001608499907888472\n",
      "Epoch 23 | Step 0 | Loss 0.0011167756747454405\n",
      "Epoch 23 | Step 5 | Loss 0.0008410154259763658\n",
      "Epoch 23 | Step 10 | Loss 0.0014319400070235133\n",
      "Epoch 24 | Step 0 | Loss 0.0005372150335460901\n",
      "Epoch 24 | Step 5 | Loss 0.001374504528939724\n",
      "Epoch 24 | Step 10 | Loss 0.0035882459487766027\n",
      "Epoch 25 | Step 0 | Loss 0.0013363400939852\n",
      "Epoch 25 | Step 5 | Loss 0.0019644710700958967\n",
      "Epoch 25 | Step 10 | Loss 0.0010024434886872768\n",
      "Epoch 26 | Step 0 | Loss 0.001033192384056747\n",
      "Epoch 26 | Step 5 | Loss 0.0017510915640741587\n",
      "Epoch 26 | Step 10 | Loss 0.0008799460483714938\n",
      "Epoch 27 | Step 0 | Loss 0.0005646371282637119\n",
      "Epoch 27 | Step 5 | Loss 0.0006654756143689156\n",
      "Epoch 27 | Step 10 | Loss 0.0010969748254865408\n",
      "Epoch 28 | Step 0 | Loss 0.0006503164768218994\n",
      "Epoch 28 | Step 5 | Loss 0.0016568246064707637\n",
      "Epoch 28 | Step 10 | Loss 0.0019842067267745733\n",
      "Epoch 29 | Step 0 | Loss 0.002392078749835491\n",
      "Epoch 29 | Step 5 | Loss 0.0016718588303774595\n",
      "Epoch 29 | Step 10 | Loss 0.0008698683814145625\n"
     ]
    }
   ],
   "source": [
    "for epoch in range(EPOCH):\n",
    "    for step, (batch_x, batch_y) in enumerate(loader):\n",
    "        batch_x = batch_x.cuda()\n",
    "        batch_y = batch_y.cuda()\n",
    "        output = model(batch_x)\n",
    "        loss = loss_func(output, batch_y)\n",
    "        opt.zero_grad()\n",
    "        loss.backward()\n",
    "        opt.step()\n",
    "        \n",
    "        if(step % 5 == 0):\n",
    "            print(\"Epoch {} | Step {} | Loss {}\".format(epoch, step, loss))"
   ]
  },
  {
   "cell_type": "markdown",
   "metadata": {},
   "source": [
    "### Show some of the Prediction"
   ]
  },
  {
   "cell_type": "code",
   "execution_count": 20,
   "metadata": {},
   "outputs": [
    {
     "name": "stdout",
     "output_type": "stream",
     "text": [
      "----------------------------------------------------------------------------------------------------\n"
     ]
    },
    {
     "ename": "RuntimeError",
     "evalue": "Can't call numpy() on Variable that requires grad. Use var.detach().numpy() instead.",
     "output_type": "error",
     "traceback": [
      "\u001b[1;31m---------------------------------------------------------------------------\u001b[0m",
      "\u001b[1;31mRuntimeError\u001b[0m                              Traceback (most recent call last)",
      "\u001b[1;32m<ipython-input-20-72ca8f75876c>\u001b[0m in \u001b[0;36m<module>\u001b[1;34m\u001b[0m\n\u001b[0;32m     11\u001b[0m     \u001b[1;32mfor\u001b[0m \u001b[0mx\u001b[0m\u001b[1;33m,\u001b[0m \u001b[0mpred\u001b[0m\u001b[1;33m,\u001b[0m \u001b[0my\u001b[0m \u001b[1;32min\u001b[0m \u001b[0mzip\u001b[0m\u001b[1;33m(\u001b[0m\u001b[0mbatch_x\u001b[0m\u001b[1;33m,\u001b[0m \u001b[0mpredict\u001b[0m\u001b[1;33m,\u001b[0m \u001b[0mbatch_y\u001b[0m\u001b[1;33m)\u001b[0m\u001b[1;33m:\u001b[0m\u001b[1;33m\u001b[0m\u001b[1;33m\u001b[0m\u001b[0m\n\u001b[0;32m     12\u001b[0m         \u001b[0mprint\u001b[0m\u001b[1;33m(\u001b[0m\u001b[1;34m'-'\u001b[0m\u001b[1;33m*\u001b[0m\u001b[1;36m100\u001b[0m\u001b[1;33m)\u001b[0m\u001b[1;33m\u001b[0m\u001b[1;33m\u001b[0m\u001b[0m\n\u001b[1;32m---> 13\u001b[1;33m         \u001b[0mprint\u001b[0m\u001b[1;33m(\u001b[0m\u001b[0mpred\u001b[0m\u001b[1;33m.\u001b[0m\u001b[0mnumpy\u001b[0m\u001b[1;33m(\u001b[0m\u001b[1;33m)\u001b[0m\u001b[1;33m)\u001b[0m\u001b[1;33m\u001b[0m\u001b[1;33m\u001b[0m\u001b[0m\n\u001b[0m\u001b[0;32m     14\u001b[0m         \u001b[1;33m(\u001b[0m\u001b[0mpos_x\u001b[0m\u001b[1;33m,\u001b[0m \u001b[0mpos_y\u001b[0m\u001b[1;33m,\u001b[0m \u001b[0mbox_w\u001b[0m\u001b[1;33m,\u001b[0m \u001b[0mbox_h\u001b[0m\u001b[1;33m)\u001b[0m \u001b[1;33m=\u001b[0m \u001b[0mpred\u001b[0m\u001b[1;33m\u001b[0m\u001b[1;33m\u001b[0m\u001b[0m\n\u001b[0;32m     15\u001b[0m         \u001b[0mpos_x\u001b[0m \u001b[1;33m*=\u001b[0m \u001b[1;36m224\u001b[0m\u001b[1;33m\u001b[0m\u001b[1;33m\u001b[0m\u001b[0m\n",
      "\u001b[1;31mRuntimeError\u001b[0m: Can't call numpy() on Variable that requires grad. Use var.detach().numpy() instead."
     ]
    }
   ],
   "source": [
    "%matplotlib inline\n",
    "import cv2\n",
    "from matplotlib import pyplot as plt\n",
    "import numpy as np\n",
    "\n",
    "model = model.cpu()\n",
    "for batch_x, batch_y in loader:\n",
    "    predict = model(batch_x)\n",
    "    for x, pred, y in zip(batch_x, predict, batch_y):\n",
    "        (pos_x, pos_y, box_w, box_h) = pred\n",
    "        pos_x *= 224\n",
    "        pos_y *= 224\n",
    "        box_w *= 224\n",
    "        box_h *= 224\n",
    "        \n",
    "        image = transforms.ToPILImage()(x)\n",
    "        img = cv2.cvtColor(np.asarray(image), cv2.COLOR_RGB2BGR)\n",
    "        img = cv2.rectangle(img, (pos_x - box_w/2, pos_y - box_h/2), (pos_x + box_w/2, pos_y + box_h/2), (255, 0, 0), 3)\n",
    "        \n",
    "        plt.imshow(img)\n",
    "        plt.show()\n",
    "    break"
   ]
  },
  {
   "cell_type": "code",
   "execution_count": null,
   "metadata": {},
   "outputs": [],
   "source": []
  }
 ],
 "metadata": {
  "kernelspec": {
   "display_name": "Python 3",
   "language": "python",
   "name": "python3"
  },
  "language_info": {
   "codemirror_mode": {
    "name": "ipython",
    "version": 3
   },
   "file_extension": ".py",
   "mimetype": "text/x-python",
   "name": "python",
   "nbconvert_exporter": "python",
   "pygments_lexer": "ipython3",
   "version": "3.6.8"
  }
 },
 "nbformat": 4,
 "nbformat_minor": 2
}
