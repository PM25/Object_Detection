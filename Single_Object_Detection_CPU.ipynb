{
 "cells": [
  {
   "cell_type": "markdown",
   "metadata": {},
   "source": [
    "### Set Data Path"
   ]
  },
  {
   "cell_type": "code",
   "execution_count": 1,
   "metadata": {},
   "outputs": [],
   "source": [
    "from pathlib import Path\n",
    "\n",
    "base_dir = Path(\"data\")\n",
    "train_dir = base_dir/Path(\"train\")\n",
    "validation_dir = base_dir/Path(\"validation\")\n",
    "test_dir = base_dir/Path(\"test\")"
   ]
  },
  {
   "cell_type": "markdown",
   "metadata": {},
   "source": [
    "### Image Transform Function"
   ]
  },
  {
   "cell_type": "code",
   "execution_count": 2,
   "metadata": {},
   "outputs": [],
   "source": [
    "from torchvision import transforms\n",
    "\n",
    "transform = transforms.Compose([ \n",
    "    transforms.Resize((224, 224)),\n",
    "    transforms.ToTensor(),\n",
    "    transforms.Normalize(mean=(.5, .5, .5), std=(.5, .5, .5))\n",
    "])"
   ]
  },
  {
   "cell_type": "markdown",
   "metadata": {},
   "source": [
    "### Load Training Data (x: features, y: labels)"
   ]
  },
  {
   "cell_type": "code",
   "execution_count": 3,
   "metadata": {},
   "outputs": [],
   "source": [
    "import torch\n",
    "from PIL import Image\n",
    "\n",
    "x, y = [], []\n",
    "for file_name in train_dir.glob(\"*.jpg\"):\n",
    "    bounding_box_file = file_name.with_suffix('.txt')\n",
    "    \n",
    "    with open(bounding_box_file) as file:\n",
    "        lines = file.readlines()\n",
    "        if(len(lines) > 1):\n",
    "            continue\n",
    "        else:\n",
    "            line = lines[0].strip('\\n')\n",
    "            (classes, cen_x, cen_y, box_w, box_h) = list(map(float, line.split(' ')))\n",
    "            torch_data = torch.FloatTensor([cen_x, cen_y, box_w, box_h])\n",
    "            y.append(torch_data)\n",
    "            \n",
    "    img = Image.open(str(file_name)).convert('RGB')\n",
    "    img = transform(img)\n",
    "    x.append(img)"
   ]
  },
  {
   "cell_type": "markdown",
   "metadata": {},
   "source": [
    "### Put Training Data into Torch Loader"
   ]
  },
  {
   "cell_type": "code",
   "execution_count": 4,
   "metadata": {},
   "outputs": [],
   "source": [
    "import torch.utils.data as Data\n",
    "\n",
    "tensor_x = torch.stack(x)\n",
    "tensor_y = torch.stack(y)\n",
    "torch_dataset = Data.TensorDataset(tensor_x, tensor_y)\n",
    "loader = Data.DataLoader(dataset=torch_dataset, batch_size=32, shuffle=True, num_workers=2)"
   ]
  },
  {
   "cell_type": "markdown",
   "metadata": {},
   "source": [
    "### Load Pretrained RestNet18 Model"
   ]
  },
  {
   "cell_type": "code",
   "execution_count": 6,
   "metadata": {},
   "outputs": [],
   "source": [
    "import torchvision\n",
    "from torch import nn\n",
    "\n",
    "model = torchvision.models.resnet18(pretrained=True)\n",
    "fc_in_size = model.fc.in_features\n",
    "model.fc = nn.Linear(fc_in_size, 4)"
   ]
  },
  {
   "cell_type": "markdown",
   "metadata": {},
   "source": [
    "### Parameters"
   ]
  },
  {
   "cell_type": "code",
   "execution_count": 7,
   "metadata": {},
   "outputs": [],
   "source": [
    "EPOCH = 10\n",
    "LR = 1e-3"
   ]
  },
  {
   "cell_type": "markdown",
   "metadata": {},
   "source": [
    "### Loss Function & Optimizer"
   ]
  },
  {
   "cell_type": "code",
   "execution_count": 8,
   "metadata": {},
   "outputs": [],
   "source": [
    "loss_func = nn.SmoothL1Loss()\n",
    "opt = torch.optim.Adam(model.parameters(), lr=LR)"
   ]
  },
  {
   "cell_type": "markdown",
   "metadata": {},
   "source": [
    "### Training"
   ]
  },
  {
   "cell_type": "code",
   "execution_count": null,
   "metadata": {},
   "outputs": [
    {
     "name": "stdout",
     "output_type": "stream",
     "text": [
      "Epoch 0 | Step 0 | Loss 0.3441098928451538\n",
      "Epoch 0 | Step 5 | Loss 0.17193390429019928\n",
      "Epoch 0 | Step 10 | Loss 0.10625818371772766\n",
      "Epoch 1 | Step 0 | Loss 0.0646333172917366\n",
      "Epoch 1 | Step 5 | Loss 0.03650979697704315\n",
      "Epoch 1 | Step 10 | Loss 0.017900140956044197\n"
     ]
    }
   ],
   "source": [
    "for epoch in range(EPOCH):\n",
    "    for step, (batch_x, batch_y) in enumerate(loader):\n",
    "        batch_x = batch_x\n",
    "        batch_y = batch_y\n",
    "        output = model(batch_x)\n",
    "        loss = loss_func(output, batch_y)\n",
    "        opt.zero_grad()\n",
    "        loss.backward()\n",
    "        opt.step()\n",
    "        \n",
    "        if(step % 5 == 0):\n",
    "            print(\"Epoch {} | Step {} | Loss {}\".format(epoch, step, loss))"
   ]
  },
  {
   "cell_type": "markdown",
   "metadata": {},
   "source": [
    "### Show some of the Prediction"
   ]
  },
  {
   "cell_type": "code",
   "execution_count": null,
   "metadata": {},
   "outputs": [],
   "source": [
    "%matplotlib inline\n",
    "import cv2\n",
    "from matplotlib import pyplot as plt\n",
    "import numpy as np\n",
    "\n",
    "model = model.cpu()\n",
    "for batch_x, batch_y in loader:\n",
    "    predict = model(batch_x)\n",
    "    for x, pred, y in zip(batch_x, predict, batch_y):\n",
    "        (pos_x, pos_y, box_w, box_h) = pred\n",
    "        pos_x *= 224\n",
    "        pos_y *= 224\n",
    "        box_w *= 224\n",
    "        box_h *= 224\n",
    "        \n",
    "        image = transforms.ToPILImage()(x)\n",
    "        img = cv2.cvtColor(np.asarray(image), cv2.COLOR_RGB2BGR)\n",
    "        img = cv2.rectangle(img, (pos_x - box_w/2, pos_y - box_h/2), (pos_x + box_w/2, pos_y + box_h/2), (255, 0, 0), 3)\n",
    "        \n",
    "        plt.imshow(img)\n",
    "        plt.show()\n",
    "    break"
   ]
  },
  {
   "cell_type": "code",
   "execution_count": null,
   "metadata": {},
   "outputs": [],
   "source": []
  }
 ],
 "metadata": {
  "kernelspec": {
   "display_name": "Python 3",
   "language": "python",
   "name": "python3"
  },
  "language_info": {
   "codemirror_mode": {
    "name": "ipython",
    "version": 3
   },
   "file_extension": ".py",
   "mimetype": "text/x-python",
   "name": "python",
   "nbconvert_exporter": "python",
   "pygments_lexer": "ipython3",
   "version": "3.6.8"
  }
 },
 "nbformat": 4,
 "nbformat_minor": 2
}
